{
  "nbformat": 4,
  "nbformat_minor": 0,
  "metadata": {
    "colab": {
      "provenance": [],
      "toc_visible": true,
      "include_colab_link": true
    },
    "kernelspec": {
      "name": "python3",
      "display_name": "Python 3"
    },
    "language_info": {
      "name": "python"
    }
  },
  "cells": [
    {
      "cell_type": "markdown",
      "metadata": {
        "id": "view-in-github",
        "colab_type": "text"
      },
      "source": [
        "<a href=\"https://colab.research.google.com/github/gitmystuff/PydanticAI/blob/main/Scopes%2C_Closures%2C_and_Decorators_Starter.ipynb\" target=\"_parent\"><img src=\"https://colab.research.google.com/assets/colab-badge.svg\" alt=\"Open In Colab\"/></a>"
      ]
    },
    {
      "cell_type": "markdown",
      "source": [
        "# Scopes, Closures, and Decorators Starter"
      ],
      "metadata": {
        "id": "HNpd0BQ9L6C8"
      }
    },
    {
      "cell_type": "markdown",
      "source": [
        "## Global and Local Scopes\n",
        "\n",
        "In Python, \"scope\" refers to the region of a program where a variable can be accessed. Here's a breakdown of global and local scope:\n",
        "\n",
        "**Global Scope:**\n",
        "\n",
        "* **Definition:**\n",
        "    * Variables defined outside of any function or class have a global scope.\n",
        "    * These variables can be accessed from anywhere in the program.\n",
        "* **Accessibility:**\n",
        "    * Accessible both inside and outside functions.\n",
        "* **Example:**\n",
        "    * If you define a variable at the top level of your Python script, it's a global variable.\n",
        "\n",
        "**Local Scope:**\n",
        "\n",
        "* **Definition:**\n",
        "    * Variables defined inside a function have a local scope.\n",
        "    * These variables are only accessible within that specific function.\n",
        "* **Accessibility:**\n",
        "    * Only accessible within the function where they are defined.\n",
        "* **Example:**\n",
        "    * If you define a variable inside a function, attempting to use it outside that function will result in an error.\n",
        "\n",
        "**Key Points:**\n",
        "\n",
        "* Python uses the LEGB rule (Local, Enclosing, Global, Built-in) to determine the order in which it searches for variable names.\n",
        "* Using the `global` keyword allows you to modify a global variable from within a function.\n",
        "* It is good practice to minimise the use of global variables, in order to make code more readable, and reduce the chance of unexpected side effects.\n",
        "\n",
        "Essentially, global variables are like public information, while local variables are like private information within a specific area of your code.\n"
      ],
      "metadata": {
        "id": "X_AeX6z1L-0e"
      }
    },
    {
      "cell_type": "code",
      "execution_count": null,
      "metadata": {
        "id": "THGBiMhzL1ns"
      },
      "outputs": [],
      "source": [
        "# Global variable\n",
        "global_variable = 10\n",
        "\n",
        "def modify_global():\n",
        "    global global_variable  # Declare that we'll use the global variable\n",
        "    global_variable = 20\n",
        "    print(\"Inside modify_global:\", global_variable)\n",
        "\n",
        "def access_global():\n",
        "    print(\"Inside access_global:\", global_variable)"
      ]
    },
    {
      "cell_type": "markdown",
      "source": [
        "**Explanation:**\n",
        "\n",
        "1.  **`global_variable = 10`**:\n",
        "    * This line defines a global variable named `global_variable` and initializes it to 10.\n",
        "2.  **`def modify_global(): ...`**:\n",
        "    * This defines a function called `modify_global`.\n",
        "    * **`global global_variable`**: This crucial line tells Python that we intend to use and modify the *global* variable `global_variable` within this function. Without it, `global_variable = 20` would create a new *local* variable with the same name.\n",
        "    * `global_variable = 20`: This line changes the value of the global variable to 20.\n",
        "    * `print(...)`: This prints the modified value.\n",
        "3.  **`def access_global(): ...`**:\n",
        "    * This defines a function called `access_global`.\n",
        "    * Because there is no local variable named `global_variable` within this function, python looks to the global scope, and finds the variable.\n",
        "    * `print(...)`: This prints the current value of the global variable.\n",
        "4.  The print statements before and after the function calls, show how the global variable is changed.\n"
      ],
      "metadata": {
        "id": "PpGkRYBkP_gB"
      }
    },
    {
      "cell_type": "code",
      "source": [
        "# coding"
      ],
      "metadata": {
        "id": "VIIJ0aA_XzKj"
      },
      "execution_count": null,
      "outputs": []
    },
    {
      "cell_type": "code",
      "source": [
        "# increment"
      ],
      "metadata": {
        "id": "K_Rhi8GRQaNv"
      },
      "execution_count": null,
      "outputs": []
    },
    {
      "cell_type": "code",
      "execution_count": null,
      "metadata": {
        "id": "6c4f2f3c",
        "outputId": "ad26a5e5-a3f7-40c0-e49c-59163da0e287"
      },
      "outputs": [
        {
          "name": "stdout",
          "output_type": "stream",
          "text": [
            "10\n"
          ]
        },
        {
          "ename": "UnboundLocalError",
          "evalue": "local variable 'b' referenced before assignment",
          "output_type": "error",
          "traceback": [
            "\u001b[1;31m---------------------------------------------------------------------------\u001b[0m",
            "\u001b[1;31mUnboundLocalError\u001b[0m                         Traceback (most recent call last)",
            "Cell \u001b[1;32mIn[6], line 10\u001b[0m\n\u001b[0;32m      7\u001b[0m     \u001b[38;5;28mprint\u001b[39m(b)\n\u001b[0;32m      8\u001b[0m     b \u001b[38;5;241m=\u001b[39m \u001b[38;5;241m1000\u001b[39m\n\u001b[1;32m---> 10\u001b[0m \u001b[43mmy_func\u001b[49m\u001b[43m(\u001b[49m\u001b[43m)\u001b[49m\n",
            "Cell \u001b[1;32mIn[6], line 7\u001b[0m, in \u001b[0;36mmy_func\u001b[1;34m()\u001b[0m\n\u001b[0;32m      5\u001b[0m \u001b[38;5;28;01mdef\u001b[39;00m \u001b[38;5;21mmy_func\u001b[39m():\n\u001b[0;32m      6\u001b[0m     \u001b[38;5;28mprint\u001b[39m(a)\n\u001b[1;32m----> 7\u001b[0m     \u001b[38;5;28mprint\u001b[39m(\u001b[43mb\u001b[49m)\n\u001b[0;32m      8\u001b[0m     b \u001b[38;5;241m=\u001b[39m \u001b[38;5;241m1000\u001b[39m\n",
            "\u001b[1;31mUnboundLocalError\u001b[0m: local variable 'b' referenced before assignment"
          ]
        }
      ],
      "source": [
        "# Throws error\n",
        "a = \"Hello\"\n",
        "b = \"World\"\n",
        "\n",
        "def my_func():\n",
        "    print(a)\n",
        "    print(b)\n",
        "    b = \"Whirled Peas\"\n",
        "\n",
        "my_func()"
      ]
    },
    {
      "cell_type": "code",
      "execution_count": null,
      "metadata": {
        "id": "08a9bb01"
      },
      "outputs": [],
      "source": [
        "# overwriting print"
      ]
    },
    {
      "cell_type": "code",
      "execution_count": null,
      "metadata": {
        "id": "26e95592"
      },
      "outputs": [],
      "source": [
        "# print whirled peas"
      ]
    },
    {
      "cell_type": "code",
      "execution_count": null,
      "metadata": {
        "id": "8b13a4f4"
      },
      "outputs": [],
      "source": [
        "# get built-in print back\n"
      ]
    },
    {
      "cell_type": "markdown",
      "source": [
        "## NonLocal\n",
        "\n",
        "The `nonlocal` keyword in Python is crucial for working with nested functions. Here's a breakdown:\n",
        "\n",
        "**Purpose:**\n",
        "\n",
        "* The `nonlocal` keyword allows you to modify variables in an enclosing (outer) function's scope from within an inner (nested) function.\n",
        "* It specifically targets variables that are neither in the local scope of the inner function nor in the global scope.\n",
        "\n",
        "**Why it's needed:**\n",
        "\n",
        "* Without `nonlocal`, if you try to assign a new value to a variable from an outer scope within an inner function, Python would treat it as a new local variable.\n",
        "* `nonlocal` tells Python that you intend to modify the existing variable in the enclosing scope.\n",
        "\n",
        "**Key characteristics:**\n",
        "\n",
        "* **Nested functions:** `nonlocal` is exclusively used within nested functions.\n",
        "* **Enclosing scope:** It refers to variables in the nearest enclosing function's scope, not the global scope.\n",
        "* **Not global:** It differs from the `global` keyword, which is used to modify global variables.\n",
        "* **Variable must exist:** The variable you intend to modify must already be defined in the enclosing scope.\n",
        "\n",
        "**In essence:**\n",
        "\n",
        "* `nonlocal` bridges the gap between local and global scopes in nested functions, providing a way to modify variables in the \"in-between\" scope.\n"
      ],
      "metadata": {
        "id": "khYFRrPBMO4E"
      }
    },
    {
      "cell_type": "code",
      "source": [
        "# coding\n",
        "def outer_function():\n",
        "    outer_variable = 10\n",
        "\n",
        "    def inner_function():\n",
        "        nonlocal outer_variable  # Declare that we'll use the nonlocal variable\n",
        "        outer_variable = 20\n",
        "        print(\"Inside inner_function:\", outer_variable)\n",
        "\n",
        "    def print_outer():\n",
        "        print(\"Inside outer_function before inner:\", outer_variable)\n",
        "\n",
        "    print_outer()\n",
        "    inner_function()\n",
        "    print_outer()\n"
      ],
      "metadata": {
        "id": "gm7qWAj-M7vc"
      },
      "execution_count": null,
      "outputs": []
    },
    {
      "cell_type": "code",
      "source": [
        "# coding\n"
      ],
      "metadata": {
        "id": "t7nw6X1RZUEr"
      },
      "execution_count": null,
      "outputs": []
    },
    {
      "cell_type": "code",
      "source": [
        "def counter():\n",
        "    count = 0\n",
        "\n",
        "    def incrementer():\n",
        "        nonlocal count\n",
        "        count += 1\n",
        "        return count\n",
        "\n",
        "    return incrementer"
      ],
      "metadata": {
        "id": "WbbS2rE8RAhS"
      },
      "execution_count": null,
      "outputs": []
    },
    {
      "cell_type": "code",
      "source": [
        "# coding"
      ],
      "metadata": {
        "id": "NNQJKUTyZZ8p"
      },
      "execution_count": null,
      "outputs": []
    },
    {
      "cell_type": "markdown",
      "source": [
        "**Explanation:**\n",
        "\n",
        "1.  **`def outer_function():`**:\n",
        "    * This defines an outer function called `outer_function`.\n",
        "2.  **`outer_variable = 10`**:\n",
        "    * This line defines a variable `outer_variable` within the scope of `outer_function`.\n",
        "3.  **`def inner_function():`**:\n",
        "    * This defines a nested function called `inner_function`.\n",
        "    * **`nonlocal outer_variable`**: This crucial line tells Python that we intend to use and modify the variable `outer_variable` from the *enclosing* scope (i.e., the scope of `outer_function`). Without this, `outer_variable = 20` would create a new *local* variable within `inner_function`.\n",
        "    * `outer_variable = 20`: This line changes the value of `outer_variable` in the outer function's scope.\n",
        "4.  **`def print_outer():`**:\n",
        "    * This function prints the value of the `outer_variable`, to show its value at different times.\n",
        "5.  The first example shows how the inner function modifies the outer functions variable.\n",
        "6.  The second example shows how the nested function can act as a counter, because it retains the value of the count variable, between calls.\n",
        "\n",
        "**Key takeaway:**\n",
        "\n",
        "* `nonlocal` is used to modify variables in the scope of an enclosing function, which is neither the local scope nor the global scope. It's essential for working with nested functions and closures.\n"
      ],
      "metadata": {
        "id": "KBf7ElaFQ5No"
      }
    },
    {
      "cell_type": "markdown",
      "source": [
        "## Closures\n",
        "\n",
        "In Python, closures are a powerful and somewhat subtle concept that allows functions to \"remember\" the values of variables from their enclosing scopes, even after those scopes have finished executing. Here's a breakdown:\n",
        "\n",
        "**Core Idea:**\n",
        "\n",
        "* A closure is essentially a function object that retains access to variables in its lexical scope, even when the function is called outside that lexical scope.\n",
        "* This \"lexical scope\" refers to the environment in which the function was originally defined.\n",
        "\n",
        "**Key Characteristics:**\n",
        "\n",
        "* **Nested Functions:** Closures involve nested functions (a function defined within another function).\n",
        "* **Variable Retention:** The inner function \"remembers\" the values of variables from the outer function's scope.\n",
        "* **Scope Persistence:** This retention occurs even after the outer function has completed its execution.\n",
        "\n",
        "**How it Works:**\n",
        "\n",
        "1.  **Outer Function:** An outer function defines a local variable and then defines an inner function.\n",
        "2.  **Inner Function:** The inner function references the variable from the outer function's scope.\n",
        "3.  **Return:** The outer function returns the inner function.\n",
        "4.  **Closure Formation:** When the returned inner function is called, it still has access to the outer function's variable, even though the outer function has finished.\n",
        "\n",
        "**Why Closures Are Useful:**\n",
        "\n",
        "* **Data Encapsulation:** Closures can be used to create private variables, effectively hiding data within a function's scope.\n",
        "* **Function Factories:** They allow you to create functions that are customized based on parameters passed to the outer function.\n",
        "* **Callbacks:** Closures are often used in event-driven programming to create callback functions that retain context.\n",
        "* **Decorators:** Closures are a fundamental part of how Python decorators work.\n",
        "\n",
        "**In simpler terms:**\n",
        "\n",
        "* Imagine a function that creates a \"mini-function\" inside it. This mini-function takes a snapshot of some information from the original function. Even after the original function is gone, the mini-function still holds onto that information. That's a closure."
      ],
      "metadata": {
        "id": "7eF8jAPhM9Yv"
      }
    },
    {
      "cell_type": "code",
      "source": [
        "def outer_function(x):\n",
        "    \"\"\"Outer function that takes a parameter x.\"\"\"\n",
        "\n",
        "    def inner_function(y):\n",
        "        \"\"\"Inner function that uses x from the outer scope.\"\"\"\n",
        "        return x + y\n",
        "\n",
        "    return inner_function  # Return the inner function (the closure)\n",
        "\n"
      ],
      "metadata": {
        "id": "o14l4E5WaFGg"
      },
      "execution_count": null,
      "outputs": []
    },
    {
      "cell_type": "code",
      "source": [
        "# coding"
      ],
      "metadata": {
        "id": "at6fr6nkaTcF"
      },
      "execution_count": null,
      "outputs": []
    },
    {
      "cell_type": "code",
      "source": [
        "# Another example:\n",
        "def multiplier(factor):\n",
        "    def multiply_by_factor(number):\n",
        "        return number * factor\n",
        "    return multiply_by_factor"
      ],
      "metadata": {
        "id": "8_2MWzbiaMjf"
      },
      "execution_count": null,
      "outputs": []
    },
    {
      "cell_type": "code",
      "source": [
        "# coding"
      ],
      "metadata": {
        "id": "byGkDnHYaUr5"
      },
      "execution_count": null,
      "outputs": []
    },
    {
      "cell_type": "markdown",
      "source": [
        "**Explanation:**\n",
        "\n",
        "1.  **`outer_function(x)`**:\n",
        "    * This outer function takes a parameter `x`.\n",
        "    * It defines an inner function `inner_function(y)`.\n",
        "    * It returns the `inner_function`.\n",
        "2.  **`inner_function(y)`**:\n",
        "    * This inner function takes a parameter `y`.\n",
        "    * Crucially, it uses the variable `x` from the *outer* function's scope.\n",
        "    * It returns the sum of `x` and `y`.\n",
        "3.  **`add_5 = outer_function(5)`**:\n",
        "    * We call `outer_function` with `x` set to 5.\n",
        "    * The returned `inner_function` (which now \"remembers\" that `x` is 5) is assigned to the variable `add_5`. This is a closure.\n",
        "4.  **`add_10 = outer_function(10)`**:\n",
        "    * Similarly, we create another closure `add_10` where `x` is 10.\n",
        "5.  **`print(add_5(3))`**:\n",
        "    * We call the `add_5` closure with `y` set to 3.\n",
        "    * The closure calculates 5 + 3 and returns 8.\n",
        "6.  **`print(add_10(3))`**:\n",
        "    * We call the `add_10` closure with `y` set to 3.\n",
        "    * The closure calculates 10 + 3 and returns 13.\n",
        "7. The second example shows how you can create different multiplier functions, that all retain the factor that they were created with.\n",
        "\n",
        "**Key takeaway:**\n",
        "\n",
        "* The `inner_function` \"remembers\" the value of `x` from the `outer_function`'s scope, even after `outer_function` has finished executing. This is the essence of a closure.\n"
      ],
      "metadata": {
        "id": "aYDP-rpQaA4U"
      }
    },
    {
      "cell_type": "markdown",
      "source": [
        "## Decorators\n",
        "\n",
        "Python decorators are a powerful and elegant way to modify or extend the behavior of functions or methods without changing their actual code. Here's a breakdown:\n",
        "\n",
        "**Core Concept:**\n",
        "\n",
        "* **Function Modification:**\n",
        "    * A decorator is essentially a function that takes another function as an argument, adds some extra functionality to it, and then returns the modified function.\n",
        "    * This allows you to \"wrap\" functions with additional behavior.\n",
        "* **Syntax:**\n",
        "    * Python provides a convenient `@decorator_name` syntax to apply decorators, making the code clean and readable.\n",
        "\n",
        "**How They Work:**\n",
        "\n",
        "1.  **Decorator Function:**\n",
        "    * You define a decorator function that takes a function as input.\n",
        "    * Inside the decorator, you typically define an inner \"wrapper\" function that contains the added functionality.\n",
        "    * The decorator then returns this wrapper function.\n",
        "2.  **Applying the Decorator:**\n",
        "    * You use the `@decorator_name` syntax above the function you want to modify.\n",
        "    * When the decorated function is called, the wrapper function is executed, which can:\n",
        "        * Perform actions before calling the original function.\n",
        "        * Call the original function.\n",
        "        * Perform actions after calling the original function.\n",
        "        * Modify the original functions return values.\n",
        "3.  **Function Replacement:**\n",
        "    * Essentially, the original function is replaced by the wrapper function.\n",
        "\n",
        "**Key Benefits:**\n",
        "\n",
        "* **Code Reusability:**\n",
        "    * Decorators allow you to reuse common functionality across multiple functions.\n",
        "* **Clean Code:**\n",
        "    * They separate the core logic of a function from its auxiliary behavior, making the code more organized.\n",
        "* **Extensibility:**\n",
        "    * They provide a way to add features to existing functions without modifying their source code.\n",
        "\n",
        "**Common Use Cases:**\n",
        "\n",
        "* **Logging:**\n",
        "    * Recording function calls, arguments, and return values.\n",
        "* **Timing:**\n",
        "    * Measuring the execution time of functions.\n",
        "* **Authentication:**\n",
        "    * Checking user permissions before executing functions.\n",
        "* **Input Validation:**\n",
        "    * Checking that function arguments are of the correct type and within acceptable ranges.\n",
        "\n",
        "In essence, decorators provide a clean and efficient way to add extra layers of functionality to your Python functions. While decorators and closures are distinct concepts in Python, they are closely related, and decorators often rely on closures to function. Here's how they connect:\n",
        "\n",
        "**Closures: The Foundation**\n",
        "\n",
        "* As explained earlier, a closure is a function that \"remembers\" the values of variables from its enclosing scope, even after that scope has finished executing. This ability to retain state is fundamental.\n",
        "\n",
        "**Decorators: Function Modification**\n",
        "\n",
        "* A decorator is a function that takes another function as an argument, adds some functionality to it, and then returns a new function.\n",
        "* Essentially, decorators provide a way to modify or extend the behavior of functions without directly altering their source code.\n",
        "\n",
        "**The Relationship**\n",
        "\n",
        "* **Decorators Often Use Closures:**\n",
        "    * The \"wrapper\" function that a decorator returns is often implemented as a closure. This allows the wrapper to access and use variables from the decorator's scope, such as the original function being decorated.\n",
        "    * This is how decorators can add functionality like logging, timing, or authentication to a function while preserving its original behavior.\n",
        "* **In essence:**\n",
        "    * A closure is a tool that allows a function to remember values.\n",
        "    * A decorator is a tool that uses that ability, among other things, to modify the behavior of other functions.\n",
        "\n",
        "**Key takeaway:**\n",
        "\n",
        "* Closures are a mechanism, and decorators are a pattern that frequently utilizes that mechanism. Therefore, while not the same, they are very much intertwined.\n"
      ],
      "metadata": {
        "id": "49GuE1rBNn2_"
      }
    },
    {
      "cell_type": "code",
      "execution_count": null,
      "metadata": {
        "collapsed": true,
        "id": "KXFmycI_KFBE"
      },
      "outputs": [],
      "source": [
        "def counter(fn):\n",
        "    cnt = 0\n",
        "\n",
        "    def inner(*args, **kwargs):\n",
        "        nonlocal cnt\n",
        "        cnt += 1\n",
        "        print(f'Function {fn.__name__} was called {cnt} times')\n",
        "        return fn(*args, **kwargs)\n",
        "    return inner"
      ]
    },
    {
      "cell_type": "code",
      "execution_count": null,
      "metadata": {
        "collapsed": true,
        "id": "Oa7AyLcbKFBG"
      },
      "outputs": [],
      "source": [
        "def add(a, b=0):\n",
        "    \"\"\"\n",
        "    returns the sum of a and b\n",
        "    \"\"\"\n",
        "    return a + b"
      ]
    },
    {
      "cell_type": "code",
      "execution_count": null,
      "metadata": {
        "id": "G0ZfuN0qKFBG"
      },
      "outputs": [],
      "source": [
        "# help"
      ]
    },
    {
      "cell_type": "code",
      "execution_count": null,
      "metadata": {
        "id": "Jn2-vaYUKFBH"
      },
      "outputs": [],
      "source": [
        "# address"
      ]
    },
    {
      "cell_type": "code",
      "execution_count": null,
      "metadata": {
        "collapsed": true,
        "id": "lBTw8CrOKFBH"
      },
      "outputs": [],
      "source": [
        "# create closure"
      ]
    },
    {
      "cell_type": "code",
      "execution_count": null,
      "metadata": {
        "id": "wTK5Wh2LKFBI"
      },
      "outputs": [],
      "source": [
        "# new add address"
      ]
    },
    {
      "cell_type": "code",
      "execution_count": null,
      "metadata": {
        "id": "7nzx32jaKFBI"
      },
      "outputs": [],
      "source": [
        "# add with more functionality"
      ]
    },
    {
      "cell_type": "code",
      "execution_count": null,
      "metadata": {
        "id": "risbDwdwKFBI"
      },
      "outputs": [],
      "source": [
        "# add more times"
      ]
    },
    {
      "cell_type": "code",
      "execution_count": null,
      "metadata": {
        "collapsed": true,
        "id": "hDQ0gbcMKFBJ"
      },
      "outputs": [],
      "source": [
        "@counter\n",
        "def mult(a: float, b: float=1, c: float=1) -> float:\n",
        "    \"\"\"\n",
        "    returns the product of a, b, and c\n",
        "    \"\"\"\n",
        "    return a * b * c"
      ]
    },
    {
      "cell_type": "code",
      "execution_count": null,
      "metadata": {
        "id": "PeK47r34KFBJ"
      },
      "outputs": [],
      "source": [
        "# call mult with counter"
      ]
    },
    {
      "cell_type": "code",
      "execution_count": null,
      "metadata": {
        "id": "8JM93XpCKFBJ"
      },
      "outputs": [],
      "source": [
        "# call mult with counter again"
      ]
    },
    {
      "cell_type": "markdown",
      "source": [
        "## Object Oriented Programming (OOP)\n",
        "\n",
        "Object-Oriented Programming (OOP) is a programming paradigm built around the concept of \"objects,\" which can contain data and code:\n",
        "\n",
        "Here are the main features of OOP:\n",
        "\n",
        "* **Encapsulation:**\n",
        "    * Bundling data (attributes) and methods (functions) that operate on the data into a single unit called an object.\n",
        "    * It restricts direct access to some of the object's components, which is called information hiding. This helps prevent accidental modification of data.\n",
        "* **Abstraction:**\n",
        "    * Hiding complex implementation details and showing only the essential features of an object.\n",
        "    * It allows you to focus on what an object does rather than how it does it.\n",
        "    * Abstract classes and interfaces are often used to achieve abstraction.\n",
        "* **Inheritance:**\n",
        "    * Creating new classes (derived or child classes) based on existing classes (base or parent classes).\n",
        "    * The derived class inherits the attributes and methods of the base class, allowing for code reuse and creating a hierarchical relationship between classes.\n",
        "* **Polymorphism:**\n",
        "    * The ability of objects of different classes to respond to the same method call in different ways.\n",
        "    * \"Poly\" means \"many,\" and \"morph\" means \"forms.\" So, polymorphism allows objects to take on many forms.\n",
        "    * This is often achieved through method overriding and interfaces.\n",
        "    * There are a couple of main types of polymorphism.\n",
        "        * **Runtime polymorphism (dynamic polymorphism):** This is achieved through method overriding, where a derived class provides a specific implementation of a method that is already defined in its base class.\n",
        "        * **Compile time polymorphism (static polymorphism):** This is achieved through method overloading, where a class has multiple methods with the same name but different parameters.\n",
        "\n",
        "These four pillars work together to create modular, reusable, and maintainable code. The concept most similar to Python decorators in common Object-Oriented Programming (OOP) is the **Decorator design pattern**.\n",
        "\n",
        "https://en.wikipedia.org/wiki/Decorator_pattern\n",
        "\n",
        "Here's a breakdown of the similarities:\n",
        "\n",
        "**Decorator Design Pattern (OOP):**\n",
        "\n",
        "* **Purpose:**\n",
        "    * It allows you to dynamically add responsibilities to an object without modifying its class.\n",
        "    * It provides a flexible alternative to subclassing for extending functionality.\n",
        "* **How it Works:**\n",
        "    * It involves creating \"wrapper\" objects that encapsulate the original object and add extra behavior.\n",
        "    * These wrappers conform to the same interface as the original object, so they can be used interchangeably.\n",
        "* **Key Features:**\n",
        "    * Dynamic addition of behavior.\n",
        "    * Composition over inheritance.\n",
        "    * Transparency (the client doesn't necessarily know it's dealing with a decorated object).\n",
        "\n",
        "**Python Decorators:**\n",
        "\n",
        "* **Purpose:**\n",
        "    * Dynamically adds responsibilities to a function or method without modifying its original code.\n",
        "* **How it Works:**\n",
        "    * It involves creating \"wrapper\" functions that encapsulate the original function and add extra behavior.\n",
        "    * The wrapper function maintains the same function signature as the original function.\n",
        "* **Key Features:**\n",
        "    * Dynamic addition of behavior.\n",
        "    * Function composition.\n",
        "    * Syntactic sugar (`@decorator_name`) for cleaner code.\n",
        "\n",
        "**Similarities:**\n",
        "\n",
        "* Both the Decorator design pattern and Python decorators focus on adding functionality dynamically.\n",
        "* Both use a \"wrapper\" concept to encapsulate the original object or function.\n",
        "* Both promote composition over inheritance for extending behavior.\n",
        "\n",
        "**Differences:**\n",
        "\n",
        "* The Decorator design pattern is a general OOP pattern applicable to objects, while Python decorators are a language-specific feature primarily used for functions and methods.\n",
        "* Python decorators have the added benefit of the \"@\" syntactical sugar.\n",
        "* The Decorator design pattern is more about object composition, where as python decorators lean more towards function composition.\n",
        "\n",
        "In essence, Python decorators can be seen as a language-level implementation of the Decorator design pattern, specifically tailored for functions and methods.\n"
      ],
      "metadata": {
        "id": "9PpOTm2oOcL2"
      }
    },
    {
      "cell_type": "markdown",
      "source": [
        "### Abstraction and Inheritance"
      ],
      "metadata": {
        "id": "5fGwuIR0dv3k"
      }
    },
    {
      "cell_type": "code",
      "source": [
        "class Animal:\n",
        "    def __init__(self, name):\n",
        "        self.name = name\n",
        "\n",
        "    def sound(self):\n",
        "        raise NotImplementedError(\"Subclasses must implement sound()\")\n",
        "\n",
        "    def show_info(self):\n",
        "        print(f\"{self.name} says: {self.sound()}\")\n",
        "\n",
        "class Dog(Animal):\n",
        "    def __init__(self, name, breed):\n",
        "        super().__init__(name)  # Call the parent class's constructor\n",
        "        self.breed = breed\n",
        "\n",
        "    def sound(self):\n",
        "        return \"Woof!\"\n",
        "\n",
        "    def show_info(self): #override the show_info method.\n",
        "        super().show_info()\n",
        "        print(f\"{self.name} is a {self.breed}.\")\n",
        "\n",
        "class Cat(Animal):\n",
        "    def sound(self):\n",
        "        return \"Meow!\""
      ],
      "metadata": {
        "id": "Nru2HzDad3c9"
      },
      "execution_count": null,
      "outputs": []
    },
    {
      "cell_type": "code",
      "source": [
        "# coding"
      ],
      "metadata": {
        "id": "1aPwKzdUd7b_"
      },
      "execution_count": null,
      "outputs": []
    },
    {
      "cell_type": "markdown",
      "source": [
        "\n",
        "\n",
        "**Explanation:**\n",
        "\n",
        "1.  **`Animal` Class (Base Class):**\n",
        "    * `__init__(self, name)`: We add a constructor to the `Animal` class. Now, every animal has a `name`.\n",
        "    * `sound()`: Remains the same, requiring subclasses to implement it.\n",
        "    * `show_info()`: A new method that prints the animal's name and sound.\n",
        "2.  **`Dog` Class (Derived Class):**\n",
        "    * `__init__(self, name, breed)`: The `Dog` class now has a `breed` attribute in addition to the `name`.\n",
        "    * `super().__init__(name)`: This is crucial! It calls the constructor of the parent class (`Animal`) to initialize the `name` attribute. This avoids duplicating code.\n",
        "    * `sound()`: Implements the dog's sound.\n",
        "    * `show_info()`: Overrides the parent's `show_info()` method to include the dog's breed. We also use `super().show_info()` to include the parent's show\\_info functionality.\n",
        "3.  **`Cat` Class (Derived Class):**\n",
        "    * `sound()`: Implements the cat's sound.\n",
        "    * Because the Cat class does not have an init method, it uses the init method from the Animal class.\n",
        "4.  **Inheritance in Action:**\n",
        "    * `Dog` and `Cat` inherit the `name` attribute and the `sound()` and `show_info()` methods from `Animal`.\n",
        "    * `Dog` extends the `Animal` class by adding a `breed` attribute and providing a more specific `show_info()`.\n",
        "    * `super()` is used to call the parent class's methods, promoting code reuse.\n",
        "    * The print(my\\_dog.name) line shows how the dog object has access to its inherited name attribute.\n"
      ],
      "metadata": {
        "id": "A-fDlLw2SeD8"
      }
    },
    {
      "cell_type": "markdown",
      "source": [
        "### Encapsulation\n"
      ],
      "metadata": {
        "id": "HH2hJOs2eH-K"
      }
    },
    {
      "cell_type": "code",
      "source": [
        "class Animal:\n",
        "    def __init__(self, name, secret_sound):\n",
        "        self.name = name\n",
        "        self._secret_sound = secret_sound\n",
        "\n",
        "    def sound(self):\n",
        "        return self._secret_sound\n",
        "\n",
        "    def show_info(self):\n",
        "        print(f\"{self.name} says: {self.sound()}\")\n",
        "\n",
        "    def _hidden_method(self):\n",
        "        print(\"This is a hidden internal method\")\n",
        "\n",
        "class Dog(Animal):\n",
        "    def __init__(self, name, breed):\n",
        "        super().__init__(name, \"Woof!\")\n",
        "        self.breed = breed\n",
        "\n",
        "    def show_info(self):\n",
        "        super().show_info()\n",
        "        print(f\"{self.name} is a {self.breed}.\")\n",
        "\n",
        "class Cat(Animal):\n",
        "    def __init__(self, name):\n",
        "        super().__init__(name, \"Meow!\")"
      ],
      "metadata": {
        "id": "oQh71N2geNTY"
      },
      "execution_count": null,
      "outputs": []
    },
    {
      "cell_type": "code",
      "source": [
        "# coding"
      ],
      "metadata": {
        "id": "VqSmqr9zeUGp"
      },
      "execution_count": null,
      "outputs": []
    },
    {
      "cell_type": "markdown",
      "source": [
        "**Explanation of Encapsulation:**\n",
        "\n",
        "1.  **`_secret_sound` Attribute:**\n",
        "    * We've changed the `Animal` class to store the animal's sound in `_secret_sound`.\n",
        "    * The leading underscore (`_`) is a convention in Python indicating that this attribute is intended to be treated as \"protected\" or \"internal.\" It's a hint that you shouldn't access it directly from outside the class.\n",
        "    * This is encapsulation: We're bundling the sound data with the `Animal` object and controlling access to it.\n",
        "\n",
        "2.  **`sound()` Method:**\n",
        "    * The `sound()` method now returns the `_secret_sound`. This is the *public interface* for getting the animal's sound.\n",
        "    * By providing a method to access the sound, we control how it's accessed. We could add logic to validate or modify the sound before returning it, if needed.\n",
        "\n",
        "3.  **`_hidden_method()` Method:**\n",
        "    * Similarly, the `_hidden_method` has a leading underscore, indicating that it is intended for internal use within the class.\n",
        "    * This method is not part of the public interface, and is used for internal operations.\n",
        "\n",
        "4.  **`Dog` and `Cat` Classes:**\n",
        "    * The `Dog` and `Cat` classes now call `super().__init__()` with their respective sounds, which are then stored in the encapsulated `_secret_sound` attribute.\n",
        "    * The dog and cat classes do not have access to change the secret sound, unless a method that changes it is provided by the Animal class.\n",
        "\n",
        "5.  **Accessing Encapsulated Attributes (Discouraged):**\n",
        "    * While you *can* access `my_dog._secret_sound` and `my_dog._hidden_method()`, it's strongly discouraged.\n",
        "    * Directly accessing encapsulated attributes breaks the principle of encapsulation and can lead to unexpected behavior if the internal implementation of the class changes.\n",
        "\n",
        "**Key Points:**\n",
        "\n",
        "* Encapsulation is about bundling data and methods and controlling access to them.\n",
        "* In Python, we use naming conventions (leading underscores) to indicate encapsulation.\n",
        "* Encapsulation promotes data integrity and allows us to change the internal implementation of a class without affecting code that uses it.\n",
        "* It protects the internal state of an object.\n"
      ],
      "metadata": {
        "id": "3srQalphTjlm"
      }
    },
    {
      "cell_type": "markdown",
      "source": [
        "### Polymorphism"
      ],
      "metadata": {
        "id": "rE9ze9ozjUAk"
      }
    },
    {
      "cell_type": "code",
      "source": [
        "class Animal:\n",
        "    def __init__(self, name):\n",
        "        self.name = name\n",
        "\n",
        "    def sound(self):\n",
        "        raise NotImplementedError(\"Subclasses must implement sound()\")\n",
        "\n",
        "class Dog(Animal):\n",
        "    def sound(self):\n",
        "        return \"Woof!\"\n",
        "\n",
        "class Cat(Animal):\n",
        "    def sound(self):\n",
        "        return \"Meow!\"\n",
        "\n",
        "def animal_sound(animal): #polymorphic function\n",
        "    print(f\"{animal.name} says: {animal.sound()}\")"
      ],
      "metadata": {
        "id": "m4ET12kQkPbj"
      },
      "execution_count": null,
      "outputs": []
    },
    {
      "cell_type": "code",
      "source": [
        "# code"
      ],
      "metadata": {
        "id": "6j-a3CL8kUFb"
      },
      "execution_count": null,
      "outputs": []
    },
    {
      "cell_type": "markdown",
      "source": [
        "**Explanation:**\n",
        "\n",
        "1.  **`Animal` Class (Base Class):**\n",
        "    * Defines the common interface with the `sound()` method.\n",
        "\n",
        "2.  **`Dog` and `Cat` Classes (Derived Classes):**\n",
        "    * Provide specific implementations of the `sound()` method.\n",
        "\n",
        "3.  **`animal_sound(animal)` Function (Polymorphic Function):**\n",
        "    * This function takes an `animal` object as input.\n",
        "    * It calls the `sound()` method on the `animal` object.\n",
        "    * The crucial part is that the *same* `animal_sound()` function works correctly with *different* types of animal objects (dogs and cats).\n",
        "\n",
        "4.  **Polymorphism in Action:**\n",
        "    * When we call `animal_sound(my_dog)`, the `sound()` method of the `Dog` class is executed.\n",
        "    * When we call `animal_sound(my_cat)`, the `sound()` method of the `Cat` class is executed.\n",
        "    * This demonstrates polymorphism: the ability of objects of different classes to respond to the same method call in their own way.\n",
        "5.  **List Example:**\n",
        "    * We create a list containing both a Dog and a Cat.\n",
        "    * The for loop iterates through the list, and calls the animal\\_sound function on each animal.\n",
        "    * Polymorphism allows the same function to work with different objects in the same list.\n",
        "\n",
        "**Key takeaway:**\n",
        "\n",
        "* Polymorphism allows us to write code that can work with objects of different classes in a uniform way.\n",
        "* The `animal_sound()` function doesn't need to know whether it's dealing with a dog or a cat; it simply calls the `sound()` method, and the correct implementation is executed based on the object's type.\n",
        "* This makes our code more flexible and extensible.\n"
      ],
      "metadata": {
        "id": "KNxZ8bW1Tnf3"
      }
    },
    {
      "cell_type": "markdown",
      "source": [
        "### Decorator\n"
      ],
      "metadata": {
        "id": "iGWOF6hkVsUB"
      }
    },
    {
      "cell_type": "code",
      "source": [
        "def validate_string_input(func):\n",
        "    \"\"\"Decorator to validate that the first argument is a string.\"\"\"\n",
        "    def wrapper(arg, *args, **kwargs):\n",
        "        if not isinstance(arg, str):\n",
        "            raise TypeError(\"Expected a string as the first argument.\")\n",
        "        return func(arg, *args, **kwargs)\n",
        "    return wrapper\n",
        "\n",
        "class Animal:\n",
        "    def __init__(self, name, secret_sound):\n",
        "        self.name = name\n",
        "        self._secret_sound = secret_sound\n",
        "\n",
        "    def sound(self):\n",
        "        return self._secret_sound\n",
        "\n",
        "    @validate_string_input\n",
        "    def set_name(self, new_name):\n",
        "        self.name = new_name\n",
        "\n",
        "    def show_info(self):\n",
        "        print(f\"{self.name} says: {self.sound()}\")\n",
        "\n",
        "class Dog(Animal):\n",
        "    def __init__(self, name, breed):\n",
        "        super().__init__(name, \"Woof!\")\n",
        "        self.breed = breed\n",
        "\n",
        "    def show_info(self):\n",
        "        super().show_info()\n",
        "        print(f\"{self.name} is a {self.breed}.\")\n",
        "\n",
        "class Cat(Animal):\n",
        "    def __init__(self, name):\n",
        "        super().__init__(name, \"Meow!\")"
      ],
      "metadata": {
        "id": "kBpLmBT3WQgY"
      },
      "execution_count": null,
      "outputs": []
    },
    {
      "cell_type": "code",
      "source": [
        "# code"
      ],
      "metadata": {
        "id": "t_kzjvTorVq7"
      },
      "execution_count": null,
      "outputs": []
    },
    {
      "cell_type": "markdown",
      "source": [
        "Let's break down this Python code step by step:\n",
        "\n",
        "**1. `validate_string_input` Decorator:**\n",
        "\n",
        "```python\n",
        "def validate_string_input(func):\n",
        "    \"\"\"Decorator to validate that the first argument is a string.\"\"\"\n",
        "    def wrapper(arg, *args, **kwargs):\n",
        "        if not isinstance(arg, str):\n",
        "            raise TypeError(\"Expected a string as the first argument.\")\n",
        "        return func(arg, *args, **kwargs)\n",
        "    return wrapper\n",
        "```\n",
        "\n",
        "* **`def validate_string_input(func):`**:\n",
        "    * This defines a decorator function called `validate_string_input`. It takes a function (`func`) as input, which is the function that will be decorated.\n",
        "* **`def wrapper(arg, *args, **kwargs):`**:\n",
        "    * This defines a nested function called `wrapper`. This is the function that will actually replace the original function.\n",
        "    * `arg`: This catches the first argument passed to the decorated function.\n",
        "    * `*args`: This captures any additional positional arguments.\n",
        "    * `**kwargs`: This captures any keyword arguments.\n",
        "* **`if not isinstance(arg, str):`**:\n",
        "    * This checks if the first argument (`arg`) is a string. `isinstance()` is a built-in function that checks if an object is an instance of a particular class.\n",
        "* **`raise TypeError(\"Expected a string as the first argument.\")`**:\n",
        "    * If `arg` is not a string, a `TypeError` is raised, indicating that the input is invalid.\n",
        "* **`return func(arg, *args, **kwargs):`**:\n",
        "    * If `arg` is a string, the original function (`func`) is called with all the arguments, and its result is returned.\n",
        "* **`return wrapper`**:\n",
        "    * The decorator function returns the `wrapper` function, which now replaces the original function.\n",
        "\n",
        "**2. `Animal` Class:**\n",
        "\n",
        "```python\n",
        "class Animal:\n",
        "    def __init__(self, name, secret_sound):\n",
        "        self.name = name\n",
        "        self._secret_sound = secret_sound\n",
        "\n",
        "    def sound(self):\n",
        "        return self._secret_sound\n",
        "\n",
        "    @validate_string_input\n",
        "    def set_name(self, new_name):\n",
        "        self.name = new_name\n",
        "\n",
        "    def show_info(self):\n",
        "        print(f\"{self.name} says: {self.sound()}\")\n",
        "```\n",
        "\n",
        "* This defines a base class `Animal`.\n",
        "* `__init__`: Initializes the animal with a `name` and a `_secret_sound` (encapsulated).\n",
        "* `sound`: Returns the animal's sound.\n",
        "* `@validate_string_input`: This applies the decorator to the `set_name` method. This means that whenever `set_name` is called, the `wrapper` function from the decorator will be executed first.\n",
        "* `set_name`: Sets the animal's name.\n",
        "* `show_info`: Prints the animal's name and sound.\n",
        "\n",
        "**3. `Dog` and `Cat` Classes:**\n",
        "\n",
        "```python\n",
        "class Dog(Animal):\n",
        "    def __init__(self, name, breed):\n",
        "        super().__init__(name, \"Woof!\")\n",
        "        self.breed = breed\n",
        "\n",
        "    def show_info(self):\n",
        "        super().show_info()\n",
        "        print(f\"{self.name} is a {self.breed}.\")\n",
        "\n",
        "class Cat(Animal):\n",
        "    def __init__(self, name):\n",
        "        super().__init__(name, \"Meow!\")\n",
        "```\n",
        "\n",
        "* These are subclasses of `Animal`.\n",
        "* `Dog`: Has a `breed` attribute.\n",
        "* `Cat`: Inherits the `name` and `secret_sound`.\n",
        "* Both classes override the `show_info` method, adding specific details.\n",
        "\n",
        "**4. Usage:**\n",
        "\n",
        "```python\n",
        "# Create animal objects\n",
        "my_dog = Dog(\"Buddy\", \"Golden Retriever\")\n",
        "my_cat = Cat(\"Whiskers\")\n",
        "\n",
        "# Demonstrate decorator\n",
        "my_dog.set_name(\"Max\")\n",
        "print(my_dog.name)\n",
        "\n",
        "try:\n",
        "    my_dog.set_name(123)\n",
        "except TypeError as e:\n",
        "    print(f\"Error: {e}\")\n",
        "```\n",
        "\n",
        "* Creates a `Dog` and a `Cat` object.\n",
        "* `my_dog.set_name(\"Max\")`: Calls the decorated `set_name` method with a valid string input.\n",
        "* `my_dog.set_name(123)`: Calls `set_name` with an invalid integer input.\n",
        "* The `try...except` block catches the `TypeError` raised by the decorator and prints an error message.\n",
        "\n",
        "**In essence:**\n",
        "\n",
        "The code demonstrates how to use a decorator to validate input types. The decorator ensures that the `set_name` method of the `Animal` class is only called with a string argument, preventing errors. It also shows basic inheritance, and polymorphism.\n"
      ],
      "metadata": {
        "id": "cyrP0vzhWJmq"
      }
    },
    {
      "cell_type": "markdown",
      "source": [
        "Decorators in Python frequently have nested functions, and this is a common and often necessary pattern. Here's why:\n",
        "\n",
        "**The Need for Nested Functions:**\n",
        "\n",
        "1.  **Wrapper Function:**\n",
        "    * A decorator's primary purpose is to modify or extend the behavior of another function. This is typically done by creating a \"wrapper\" function that encapsulates the original function.\n",
        "    * This wrapper function is where the added functionality (like validation, logging, timing, etc.) is implemented.\n",
        "\n",
        "2.  **Closure:**\n",
        "    * The wrapper function needs access to the original function that it's decorating. To achieve this, the wrapper function is defined *inside* the decorator function.\n",
        "    * This creates a closure, which allows the wrapper to \"remember\" the original function, even after the decorator function has finished executing.\n",
        "\n",
        "3.  **Preserving Function Signature:**\n",
        "    * The wrapper function must have the same function signature (i.e., accept the same arguments) as the original function. This is essential so that the decorated function can be called in the same way as the original.\n",
        "    * Using `*args` and `**kwargs` inside the wrapper allows it to handle any number and type of arguments.\n",
        "\n",
        "**Typical Decorator Structure:**\n",
        "\n",
        "```python\n",
        "def my_decorator(func):  # Decorator function\n",
        "    def wrapper(*args, **kwargs):  # Wrapper function (nested)\n",
        "        # Add functionality here (e.g., logging)\n",
        "        print(\"Before calling the function\")\n",
        "        result = func(*args, **kwargs)  # Call the original function\n",
        "        print(\"After calling the function\")\n",
        "        return result\n",
        "    return wrapper  # Return the wrapper function\n",
        "```\n",
        "\n",
        "**Why Nesting Is Common:**\n",
        "\n",
        "* Nesting creates the closure needed to retain access to the original function.\n",
        "* It allows the decorator to create a wrapper with the correct function signature.\n",
        "* It keeps the wrapper function and its associated logic contained within the scope of the decorator.\n",
        "\n",
        "**When Nesting Might Be Less Necessary:**\n",
        "\n",
        "* In very simple cases where the decorator doesn't need to access the original function or its arguments, nesting might be avoided. However, these cases are relatively rare.\n",
        "* When using class based decorators, nested functions are not needed, but the concept of wrapping the original function still occurs.\n",
        "\n",
        "In most practical scenarios, nested functions are an integral part of how Python decorators work.\n"
      ],
      "metadata": {
        "id": "xalLbDecWYWS"
      }
    },
    {
      "cell_type": "markdown",
      "source": [
        "## Summary\n",
        "\n",
        "Decorators and closures are closely related concepts in Python, and decorators often rely on closures to function. While they aren't exactly the same, they work hand-in-hand.\n",
        "\n",
        "Here's a breakdown of their relationship:\n",
        "\n",
        "**Closures:**\n",
        "\n",
        "* A closure is a function that \"remembers\" the values of variables from its enclosing scope, even after that scope has finished executing.\n",
        "* This happens when a nested function references a variable from its outer (enclosing) function's scope.\n",
        "* The inner function \"closes over\" the variables from the outer function, hence the name \"closure.\"\n",
        "\n",
        "**Decorators:**\n",
        "\n",
        "* A decorator is a function that takes another function as input, adds some functionality to it, and returns a modified function.\n",
        "* Decorators provide a way to modify or extend the behavior of functions without changing their source code.\n",
        "\n",
        "**The Connection:**\n",
        "\n",
        "* Decorators frequently use closures to implement their functionality.\n",
        "* The \"wrapper\" function that a decorator returns is often a closure.\n",
        "* This wrapper function needs to \"remember\" the original function that it's decorating.\n",
        "* By defining the wrapper function inside the decorator function, a closure is created, allowing the wrapper to access and use the original function.\n",
        "\n",
        "**In simpler terms:**\n",
        "\n",
        "* A closure is a mechanism that allows a function to retain access to variables from its enclosing scope.\n",
        "* A decorator is a pattern that uses this mechanism to modify or extend the behavior of other functions.\n",
        "\n",
        "**Key takeaway:**\n",
        "\n",
        "* Closures are the foundation upon which decorators are often built.\n",
        "* While not the same thing, you will see closures used in decorator implementations very often.\n"
      ],
      "metadata": {
        "id": "It6EiHP9WzPC"
      }
    }
  ]
}